{
 "cells": [
  {
   "cell_type": "code",
   "execution_count": 11,
   "metadata": {
    "collapsed": true,
    "pycharm": {
     "name": "#%%\n"
    }
   },
   "outputs": [],
   "source": [
    "import pandas as pd\n",
    "import numpy as np\n",
    "import os\n",
    "\n",
    "from tqdm import tqdm"
   ]
  },
  {
   "cell_type": "code",
   "execution_count": 25,
   "outputs": [],
   "source": [
    "log_list = os.listdir(os.getcwd() + '/aion/account')"
   ],
   "metadata": {
    "collapsed": false,
    "pycharm": {
     "name": "#%%\n"
    }
   }
  },
  {
   "cell_type": "code",
   "execution_count": 23,
   "outputs": [
    {
     "name": "stderr",
     "output_type": "stream",
     "text": [
      "  0%|          | 0/22 [00:00<?, ?it/s]/var/folders/z3/gh_fzth12s90myz1qyhc5tc80000gn/T/ipykernel_30593/3083042814.py:2: DtypeWarning: Columns (11,12,13) have mixed types. Specify dtype option on import or set low_memory=False.\n",
      "  log = pd.read_csv(f'aion/{name}')\n",
      "  5%|▍         | 1/22 [02:03<43:20, 123.84s/it]/var/folders/z3/gh_fzth12s90myz1qyhc5tc80000gn/T/ipykernel_30593/3083042814.py:2: DtypeWarning: Columns (11,12,13) have mixed types. Specify dtype option on import or set low_memory=False.\n",
      "  log = pd.read_csv(f'aion/{name}')\n",
      "  9%|▉         | 2/22 [03:38<35:28, 106.41s/it]/var/folders/z3/gh_fzth12s90myz1qyhc5tc80000gn/T/ipykernel_30593/3083042814.py:2: DtypeWarning: Columns (11,12,13) have mixed types. Specify dtype option on import or set low_memory=False.\n",
      "  log = pd.read_csv(f'aion/{name}')\n",
      " 14%|█▎        | 3/22 [05:44<36:35, 115.55s/it]/var/folders/z3/gh_fzth12s90myz1qyhc5tc80000gn/T/ipykernel_30593/3083042814.py:2: DtypeWarning: Columns (11,12,13) have mixed types. Specify dtype option on import or set low_memory=False.\n",
      "  log = pd.read_csv(f'aion/{name}')\n",
      " 18%|█▊        | 4/22 [07:51<36:01, 120.11s/it]/var/folders/z3/gh_fzth12s90myz1qyhc5tc80000gn/T/ipykernel_30593/3083042814.py:2: DtypeWarning: Columns (11,12,13) have mixed types. Specify dtype option on import or set low_memory=False.\n",
      "  log = pd.read_csv(f'aion/{name}')\n",
      " 23%|██▎       | 5/22 [10:04<35:19, 124.67s/it]/var/folders/z3/gh_fzth12s90myz1qyhc5tc80000gn/T/ipykernel_30593/3083042814.py:2: DtypeWarning: Columns (11,12,13) have mixed types. Specify dtype option on import or set low_memory=False.\n",
      "  log = pd.read_csv(f'aion/{name}')\n",
      " 27%|██▋       | 6/22 [12:06<32:58, 123.66s/it]/var/folders/z3/gh_fzth12s90myz1qyhc5tc80000gn/T/ipykernel_30593/3083042814.py:2: DtypeWarning: Columns (11,12,13) have mixed types. Specify dtype option on import or set low_memory=False.\n",
      "  log = pd.read_csv(f'aion/{name}')\n",
      " 32%|███▏      | 7/22 [14:10<30:59, 123.96s/it]/var/folders/z3/gh_fzth12s90myz1qyhc5tc80000gn/T/ipykernel_30593/3083042814.py:2: DtypeWarning: Columns (11,12) have mixed types. Specify dtype option on import or set low_memory=False.\n",
      "  log = pd.read_csv(f'aion/{name}')\n",
      " 36%|███▋      | 8/22 [16:08<28:28, 122.05s/it]/var/folders/z3/gh_fzth12s90myz1qyhc5tc80000gn/T/ipykernel_30593/3083042814.py:2: DtypeWarning: Columns (11,12,13) have mixed types. Specify dtype option on import or set low_memory=False.\n",
      "  log = pd.read_csv(f'aion/{name}')\n",
      " 41%|████      | 9/22 [18:11<26:31, 122.43s/it]/var/folders/z3/gh_fzth12s90myz1qyhc5tc80000gn/T/ipykernel_30593/3083042814.py:2: DtypeWarning: Columns (11,12,13) have mixed types. Specify dtype option on import or set low_memory=False.\n",
      "  log = pd.read_csv(f'aion/{name}')\n",
      " 45%|████▌     | 10/22 [20:16<24:35, 122.99s/it]/var/folders/z3/gh_fzth12s90myz1qyhc5tc80000gn/T/ipykernel_30593/3083042814.py:2: DtypeWarning: Columns (11,12,13) have mixed types. Specify dtype option on import or set low_memory=False.\n",
      "  log = pd.read_csv(f'aion/{name}')\n",
      " 50%|█████     | 11/22 [21:53<21:05, 115.07s/it]/var/folders/z3/gh_fzth12s90myz1qyhc5tc80000gn/T/ipykernel_30593/3083042814.py:2: DtypeWarning: Columns (11,12,13) have mixed types. Specify dtype option on import or set low_memory=False.\n",
      "  log = pd.read_csv(f'aion/{name}')\n",
      " 55%|█████▍    | 12/22 [23:59<19:44, 118.50s/it]/var/folders/z3/gh_fzth12s90myz1qyhc5tc80000gn/T/ipykernel_30593/3083042814.py:2: DtypeWarning: Columns (11,12,13) have mixed types. Specify dtype option on import or set low_memory=False.\n",
      "  log = pd.read_csv(f'aion/{name}')\n",
      " 59%|█████▉    | 13/22 [25:28<16:26, 109.62s/it]/var/folders/z3/gh_fzth12s90myz1qyhc5tc80000gn/T/ipykernel_30593/3083042814.py:2: DtypeWarning: Columns (11,12,13) have mixed types. Specify dtype option on import or set low_memory=False.\n",
      "  log = pd.read_csv(f'aion/{name}')\n",
      " 64%|██████▎   | 14/22 [27:29<15:03, 112.89s/it]/var/folders/z3/gh_fzth12s90myz1qyhc5tc80000gn/T/ipykernel_30593/3083042814.py:2: DtypeWarning: Columns (11,12,13) have mixed types. Specify dtype option on import or set low_memory=False.\n",
      "  log = pd.read_csv(f'aion/{name}')\n",
      " 68%|██████▊   | 15/22 [29:32<13:32, 116.06s/it]/var/folders/z3/gh_fzth12s90myz1qyhc5tc80000gn/T/ipykernel_30593/3083042814.py:2: DtypeWarning: Columns (11,12,13) have mixed types. Specify dtype option on import or set low_memory=False.\n",
      "  log = pd.read_csv(f'aion/{name}')\n",
      " 73%|███████▎  | 16/22 [31:35<11:48, 118.08s/it]/var/folders/z3/gh_fzth12s90myz1qyhc5tc80000gn/T/ipykernel_30593/3083042814.py:2: DtypeWarning: Columns (11,12,13) have mixed types. Specify dtype option on import or set low_memory=False.\n",
      "  log = pd.read_csv(f'aion/{name}')\n",
      " 77%|███████▋  | 17/22 [33:32<09:48, 117.70s/it]/var/folders/z3/gh_fzth12s90myz1qyhc5tc80000gn/T/ipykernel_30593/3083042814.py:2: DtypeWarning: Columns (11,12,13) have mixed types. Specify dtype option on import or set low_memory=False.\n",
      "  log = pd.read_csv(f'aion/{name}')\n",
      " 82%|████████▏ | 18/22 [35:40<08:03, 120.96s/it]/var/folders/z3/gh_fzth12s90myz1qyhc5tc80000gn/T/ipykernel_30593/3083042814.py:2: DtypeWarning: Columns (11,12,13) have mixed types. Specify dtype option on import or set low_memory=False.\n",
      "  log = pd.read_csv(f'aion/{name}')\n",
      " 86%|████████▋ | 19/22 [37:49<06:09, 123.28s/it]/var/folders/z3/gh_fzth12s90myz1qyhc5tc80000gn/T/ipykernel_30593/3083042814.py:2: DtypeWarning: Columns (11,12,13) have mixed types. Specify dtype option on import or set low_memory=False.\n",
      "  log = pd.read_csv(f'aion/{name}')\n",
      " 91%|█████████ | 20/22 [39:47<04:03, 121.83s/it]/var/folders/z3/gh_fzth12s90myz1qyhc5tc80000gn/T/ipykernel_30593/3083042814.py:2: DtypeWarning: Columns (11,12,13) have mixed types. Specify dtype option on import or set low_memory=False.\n",
      "  log = pd.read_csv(f'aion/{name}')\n",
      " 95%|█████████▌| 21/22 [41:52<02:02, 122.82s/it]/var/folders/z3/gh_fzth12s90myz1qyhc5tc80000gn/T/ipykernel_30593/3083042814.py:2: DtypeWarning: Columns (11,12,13) have mixed types. Specify dtype option on import or set low_memory=False.\n",
      "  log = pd.read_csv(f'aion/{name}')\n",
      "100%|██████████| 22/22 [44:04<00:00, 120.23s/it]\n"
     ]
    }
   ],
   "source": [
    "for name in tqdm(log_list, leave = True):\n",
    "    log = pd.read_csv(f'aion/{name}')\n",
    "    log = log.loc[log['log_id'] == 210]\n",
    "    log1 = log.loc[:, ['actor', 'target']]\n",
    "    log2 = log.loc[:, ['actor_account', 'target_account']]\n",
    "    log1.to_csv(f'aion/character/{name}', sep = ',', index = False)\n",
    "    log2.to_csv(f'aion/account/{name}', sep = ',', index = False)"
   ],
   "metadata": {
    "collapsed": false,
    "pycharm": {
     "name": "#%%\n"
    }
   }
  },
  {
   "cell_type": "code",
   "execution_count": 24,
   "outputs": [
    {
     "name": "stderr",
     "output_type": "stream",
     "text": [
      "100%|██████████| 22/22 [00:00<00:00, 89.25it/s] \n"
     ]
    }
   ],
   "source": [
    "character_transaction = pd.DataFrame(columns = ['from', 'to'])\n",
    "for name in tqdm(log_list, leave = True):\n",
    "    log = pd.read_csv(f'aion/character/{name}')\n",
    "    log.rename(columns = {'actor' : 'from', 'target' : 'to'}, inplace = True)\n",
    "    character_transaction = pd.concat([character_transaction, log])\n",
    "character_transaction.to_csv('aion/character_transaction.csv', sep = ',', index = False)"
   ],
   "metadata": {
    "collapsed": false,
    "pycharm": {
     "name": "#%%\n"
    }
   }
  },
  {
   "cell_type": "code",
   "execution_count": 28,
   "outputs": [
    {
     "name": "stderr",
     "output_type": "stream",
     "text": [
      "100%|██████████| 22/22 [00:00<00:00, 126.66it/s]\n"
     ]
    }
   ],
   "source": [
    "account_transaction = pd.DataFrame(columns = ['from', 'to'])\n",
    "for name in tqdm(log_list, leave = True):\n",
    "    log = pd.read_csv(f'aion/account/{name}')\n",
    "    log.rename(columns = {'actor_account' : 'from', 'target_account' : 'to'}, inplace = True)\n",
    "    account_transaction = pd.concat([account_transaction, log])\n",
    "account_transaction.to_csv('aion/account_transaction.csv', sep = ',', index = False)"
   ],
   "metadata": {
    "collapsed": false,
    "pycharm": {
     "name": "#%%\n"
    }
   }
  },
  {
   "cell_type": "code",
   "execution_count": 32,
   "outputs": [],
   "source": [
    "character_transaction = pd.read_csv('aion/character_transaction.csv')"
   ],
   "metadata": {
    "collapsed": false,
    "pycharm": {
     "name": "#%%\n"
    }
   }
  },
  {
   "cell_type": "code",
   "execution_count": null,
   "outputs": [],
   "source": [],
   "metadata": {
    "collapsed": false,
    "pycharm": {
     "name": "#%%\n"
    }
   }
  }
 ],
 "metadata": {
  "kernelspec": {
   "display_name": "Python 3",
   "language": "python",
   "name": "python3"
  },
  "language_info": {
   "codemirror_mode": {
    "name": "ipython",
    "version": 2
   },
   "file_extension": ".py",
   "mimetype": "text/x-python",
   "name": "python",
   "nbconvert_exporter": "python",
   "pygments_lexer": "ipython2",
   "version": "2.7.6"
  }
 },
 "nbformat": 4,
 "nbformat_minor": 0
}