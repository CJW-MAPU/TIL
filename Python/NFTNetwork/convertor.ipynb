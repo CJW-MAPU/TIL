{
 "cells": [
  {
   "cell_type": "code",
   "execution_count": 157,
   "metadata": {
    "collapsed": true
   },
   "outputs": [],
   "source": [
    "import pandas\n",
    "from tqdm import tqdm"
   ]
  },
  {
   "cell_type": "code",
   "execution_count": 173,
   "outputs": [],
   "source": [
    "tornado = pandas.read_csv('data/toranado_tx_1.csv')\n",
    "# character = pandas.read_csv('aion/character_transaction.csv')\n",
    "# account = pandas.read_csv('aion/account_transaction.csv')\n",
    "character = pandas.read_csv('aion/character/log_20100416.csv')"
   ],
   "metadata": {
    "collapsed": false,
    "pycharm": {
     "name": "#%%\n"
    }
   }
  },
  {
   "cell_type": "code",
   "execution_count": 174,
   "outputs": [],
   "source": [
    "tornado = tornado.drop_duplicates()"
   ],
   "metadata": {
    "collapsed": false,
    "pycharm": {
     "name": "#%%\n"
    }
   }
  },
  {
   "cell_type": "code",
   "execution_count": 177,
   "outputs": [],
   "source": [
    "character = character.rename(columns = {'actor' : 'from', 'target' : 'to'})"
   ],
   "metadata": {
    "collapsed": false,
    "pycharm": {
     "name": "#%%\n"
    }
   }
  },
  {
   "cell_type": "code",
   "execution_count": 178,
   "outputs": [],
   "source": [
    "# from_data = tornado['from']\n",
    "from_data = character['from']\n",
    "# from_data = account['from']"
   ],
   "metadata": {
    "collapsed": false,
    "pycharm": {
     "name": "#%%\n"
    }
   }
  },
  {
   "cell_type": "code",
   "execution_count": 179,
   "outputs": [],
   "source": [
    "# to_data = tornado['to']\n",
    "to_data = character['to']\n",
    "# to_data = account['to']"
   ],
   "metadata": {
    "collapsed": false,
    "pycharm": {
     "name": "#%%\n"
    }
   }
  },
  {
   "cell_type": "markdown",
   "source": [
    "# Node 생성"
   ],
   "metadata": {
    "collapsed": false
   }
  },
  {
   "cell_type": "code",
   "execution_count": 180,
   "outputs": [],
   "source": [
    "node_list = pandas.concat([from_data, to_data]).drop_duplicates()"
   ],
   "metadata": {
    "collapsed": false,
    "pycharm": {
     "name": "#%%\n"
    }
   }
  },
  {
   "cell_type": "code",
   "execution_count": 181,
   "outputs": [],
   "source": [
    "node_list = pandas.DataFrame(node_list, columns = ['label'])"
   ],
   "metadata": {
    "collapsed": false,
    "pycharm": {
     "name": "#%%\n"
    }
   }
  },
  {
   "cell_type": "code",
   "execution_count": 182,
   "outputs": [],
   "source": [
    "node_list['id'] = [i + 1 for i in range(len(node_list))]"
   ],
   "metadata": {
    "collapsed": false,
    "pycharm": {
     "name": "#%%\n"
    }
   }
  },
  {
   "cell_type": "code",
   "execution_count": 183,
   "outputs": [],
   "source": [
    "node_list = node_list[['id', 'label']]"
   ],
   "metadata": {
    "collapsed": false,
    "pycharm": {
     "name": "#%%\n"
    }
   }
  },
  {
   "cell_type": "code",
   "execution_count": 184,
   "outputs": [],
   "source": [
    "# node_list.to_csv('data/toranado_tx_1_node_list.csv', sep = ',', index = False)\n",
    "# node_list.to_csv('aion/character_tx_node_list.csv', sep = ',', index = False)\n",
    "node_list.to_csv('aion/character_tx_node_list_one_day.csv', sep = ',', index = False)\n",
    "# node_list.to_csv('aion/account_tx_node_list.csv', sep = ',', index = False)"
   ],
   "metadata": {
    "collapsed": false,
    "pycharm": {
     "name": "#%%\n"
    }
   }
  },
  {
   "cell_type": "markdown",
   "source": [
    "# Edge 생성"
   ],
   "metadata": {
    "collapsed": false
   }
  },
  {
   "cell_type": "code",
   "execution_count": 185,
   "outputs": [],
   "source": [
    "# edge_list = tornado.loc[:, ['from', 'to']]\n",
    "edge_list = character.loc[:, ['from', 'to']]\n",
    "# edge_list = account.loc[:, ['from', 'to']]"
   ],
   "metadata": {
    "collapsed": false,
    "pycharm": {
     "name": "#%%\n"
    }
   }
  },
  {
   "cell_type": "code",
   "execution_count": 186,
   "outputs": [
    {
     "data": {
      "text/plain": "         from      to\n0      872354  869409\n1      864476  879188\n2      804950  803751\n3      822647  862966\n4      862966  822647\n...       ...     ...\n25534  852227  839193\n25535  857597  880046\n25536  880046  857597\n25537  885428  811840\n25538  828099  845690\n\n[25539 rows x 2 columns]",
      "text/html": "<div>\n<style scoped>\n    .dataframe tbody tr th:only-of-type {\n        vertical-align: middle;\n    }\n\n    .dataframe tbody tr th {\n        vertical-align: top;\n    }\n\n    .dataframe thead th {\n        text-align: right;\n    }\n</style>\n<table border=\"1\" class=\"dataframe\">\n  <thead>\n    <tr style=\"text-align: right;\">\n      <th></th>\n      <th>from</th>\n      <th>to</th>\n    </tr>\n  </thead>\n  <tbody>\n    <tr>\n      <th>0</th>\n      <td>872354</td>\n      <td>869409</td>\n    </tr>\n    <tr>\n      <th>1</th>\n      <td>864476</td>\n      <td>879188</td>\n    </tr>\n    <tr>\n      <th>2</th>\n      <td>804950</td>\n      <td>803751</td>\n    </tr>\n    <tr>\n      <th>3</th>\n      <td>822647</td>\n      <td>862966</td>\n    </tr>\n    <tr>\n      <th>4</th>\n      <td>862966</td>\n      <td>822647</td>\n    </tr>\n    <tr>\n      <th>...</th>\n      <td>...</td>\n      <td>...</td>\n    </tr>\n    <tr>\n      <th>25534</th>\n      <td>852227</td>\n      <td>839193</td>\n    </tr>\n    <tr>\n      <th>25535</th>\n      <td>857597</td>\n      <td>880046</td>\n    </tr>\n    <tr>\n      <th>25536</th>\n      <td>880046</td>\n      <td>857597</td>\n    </tr>\n    <tr>\n      <th>25537</th>\n      <td>885428</td>\n      <td>811840</td>\n    </tr>\n    <tr>\n      <th>25538</th>\n      <td>828099</td>\n      <td>845690</td>\n    </tr>\n  </tbody>\n</table>\n<p>25539 rows × 2 columns</p>\n</div>"
     },
     "execution_count": 186,
     "metadata": {},
     "output_type": "execute_result"
    }
   ],
   "source": [
    "edge_list"
   ],
   "metadata": {
    "collapsed": false,
    "pycharm": {
     "name": "#%%\n"
    }
   }
  },
  {
   "cell_type": "code",
   "execution_count": 187,
   "outputs": [],
   "source": [
    "tqdm.pandas()"
   ],
   "metadata": {
    "collapsed": false,
    "pycharm": {
     "name": "#%%\n"
    }
   }
  },
  {
   "cell_type": "code",
   "execution_count": 188,
   "outputs": [
    {
     "name": "stderr",
     "output_type": "stream",
     "text": [
      "100%|██████████| 25539/25539 [00:02<00:00, 11851.13it/s]\n"
     ]
    }
   ],
   "source": [
    "edge_list['from'] = edge_list['from'].progress_apply(lambda x: node_list.loc[node_list['label'] == x]['id'].values[0])"
   ],
   "metadata": {
    "collapsed": false,
    "pycharm": {
     "name": "#%%\n"
    }
   }
  },
  {
   "cell_type": "code",
   "execution_count": 189,
   "outputs": [
    {
     "name": "stderr",
     "output_type": "stream",
     "text": [
      "100%|██████████| 25539/25539 [00:02<00:00, 11609.33it/s]\n"
     ]
    }
   ],
   "source": [
    "edge_list['to'] = edge_list['to'].progress_apply(lambda x: node_list.loc[node_list['label'] == x]['id'].values[0])"
   ],
   "metadata": {
    "collapsed": false,
    "pycharm": {
     "name": "#%%\n"
    }
   }
  },
  {
   "cell_type": "code",
   "execution_count": 190,
   "outputs": [],
   "source": [
    "# edge_list.to_csv('data/toranado_tx_1_edge_list.csv', sep = ',', index = False)\n",
    "# edge_list.to_csv('aion/character_tx_edge_list.csv', sep = ',', index = False)\n",
    "edge_list.to_csv('aion/character_tx_edge_list_one_day.csv', sep = ',', index = False)\n",
    "# edge_list.to_csv('aion/account_tx_edge_list.csv', sep = ',', index = False)"
   ],
   "metadata": {
    "collapsed": false,
    "pycharm": {
     "name": "#%%\n"
    }
   }
  },
  {
   "cell_type": "code",
   "execution_count": null,
   "outputs": [],
   "source": [],
   "metadata": {
    "collapsed": false,
    "pycharm": {
     "name": "#%%\n"
    }
   }
  }
 ],
 "metadata": {
  "kernelspec": {
   "display_name": "Python 3",
   "language": "python",
   "name": "python3"
  },
  "language_info": {
   "codemirror_mode": {
    "name": "ipython",
    "version": 2
   },
   "file_extension": ".py",
   "mimetype": "text/x-python",
   "name": "python",
   "nbconvert_exporter": "python",
   "pygments_lexer": "ipython2",
   "version": "2.7.6"
  }
 },
 "nbformat": 4,
 "nbformat_minor": 0
}